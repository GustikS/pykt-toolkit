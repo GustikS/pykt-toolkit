{
 "cells": [
  {
   "cell_type": "code",
   "execution_count": 1,
   "metadata": {},
   "outputs": [],
   "source": [
    "import wandb\n",
    "import pandas as pd\n",
    "from tqdm import tqdm_notebook\n",
    "pd.set_option(\"display.max_columns\",100)\n",
    "import numpy as np\n",
    "import pickle\n",
    "import pytabchen as pytb"
   ]
  },
  {
   "cell_type": "code",
   "execution_count": 2,
   "metadata": {},
   "outputs": [],
   "source": [
    "import yaml"
   ]
  },
  {
   "cell_type": "code",
   "execution_count": 3,
   "metadata": {},
   "outputs": [],
   "source": [
    "# 显示所有列(参数设置为None代表显示所有行，也可以自行设置数字)\n",
    "pd.set_option('display.max_columns',None)\n",
    "# 显示所有行\n",
    "pd.set_option('display.max_rows',None)\n",
    "# 设置数据的显示长度，默认为50\n",
    "pd.set_option('max_colwidth',200)\n",
    "# 禁止自动换行(设置为Flase不自动换行，True反之)\n",
    "pd.set_option('expand_frame_repr', False)"
   ]
  },
  {
   "cell_type": "code",
   "execution_count": 4,
   "metadata": {},
   "outputs": [],
   "source": [
    "wandb_config = {\n",
    "    \"uid\": \"Shyann\",\n",
    "    \"api_key\": \"07ec58f8e8315aa083a202292092d7e2ee9d43b4\"\n",
    "}"
   ]
  },
  {
   "cell_type": "code",
   "execution_count": 5,
   "metadata": {},
   "outputs": [],
   "source": [
    "import wandb \n",
    "import os\n",
    "os.environ['WANDB_API_KEY'] = wandb_config['api_key']"
   ]
  },
  {
   "cell_type": "code",
   "execution_count": 6,
   "metadata": {},
   "outputs": [],
   "source": [
    "def get_runs_result(runs):\n",
    "    result_list = []\n",
    "    for run in tqdm_notebook(runs):\n",
    "        result = {}\n",
    "        result.update(run.summary._json_dict)\n",
    "        model_config = {k: v for k, v in run.config.items()\n",
    "                    if not k.startswith('_') and type(v) not in [list,dict]}\n",
    "        result.update(model_config)\n",
    "        result['Name'] = run.name\n",
    "        result['path_id'] = run.path[-1]\n",
    "        result_list.append(result)\n",
    "    runs_df = pd.DataFrame(result_list)#.drop_duplicates(list(model_config.keys()))\n",
    "    return runs_df\n",
    "\n",
    "def get_df(sweep_name,sweep_dict):\n",
    "    df_list = []\n",
    "    for sweep_id in sweep_dict[sweep_name]:\n",
    "#         sweep = api.sweep(\"Shyann/掌握程度/{}\".format(sweep_id))\n",
    "        sweep = api.sweep(\"Shyann/{}/{}\".format(project_name,sweep_id))\n",
    "        df = get_runs_result(sweep.runs)\n",
    "        df_list.append(df)\n",
    "    df = pd.concat(df_list)\n",
    "#     print(df.shape)\n",
    "    return df\n",
    "\n",
    "def get_sweep_dict(project):\n",
    "    '''获取sweep的id'''\n",
    "    sweep_dict = {}\n",
    "    for sweep in project.sweeps():\n",
    "        if sweep.name not in sweep_dict:\n",
    "            sweep_dict[sweep.name] = []\n",
    "        sweep_dict[sweep.name].append(sweep.id)\n",
    "    return sweep_dict"
   ]
  },
  {
   "cell_type": "code",
   "execution_count": 7,
   "metadata": {
    "scrolled": false
   },
   "outputs": [
    {
     "ename": "NameError",
     "evalue": "name 'sweep_dict' is not defined",
     "output_type": "error",
     "traceback": [
      "\u001b[0;31m---------------------------------------------------------------------------\u001b[0m",
      "\u001b[0;31mNameError\u001b[0m                                 Traceback (most recent call last)",
      "\u001b[0;32m<ipython-input-7-42c1743fa25f>\u001b[0m in \u001b[0;36m<module>\u001b[0;34m\u001b[0m\n\u001b[1;32m      3\u001b[0m \u001b[0mend_ids\u001b[0m \u001b[0;34m=\u001b[0m \u001b[0;34m[\u001b[0m\u001b[0;34m]\u001b[0m\u001b[0;34m\u001b[0m\u001b[0;34m\u001b[0m\u001b[0m\n\u001b[1;32m      4\u001b[0m \u001b[0mall_end_ids\u001b[0m \u001b[0;34m=\u001b[0m \u001b[0;34m[\u001b[0m\u001b[0;34m]\u001b[0m\u001b[0;34m\u001b[0m\u001b[0;34m\u001b[0m\u001b[0m\n\u001b[0;32m----> 5\u001b[0;31m \u001b[0;32mfor\u001b[0m \u001b[0mkey\u001b[0m \u001b[0;32min\u001b[0m \u001b[0msweep_dict\u001b[0m\u001b[0;34m:\u001b[0m\u001b[0;34m\u001b[0m\u001b[0;34m\u001b[0m\u001b[0m\n\u001b[0m\u001b[1;32m      6\u001b[0m     \u001b[0;32mif\u001b[0m \u001b[0;32mnot\u001b[0m \u001b[0mkey\u001b[0m\u001b[0;34m.\u001b[0m\u001b[0mstartswith\u001b[0m\u001b[0;34m(\u001b[0m\u001b[0;34m\"assist2009_atktfix_forget_atc_0\"\u001b[0m\u001b[0;34m)\u001b[0m\u001b[0;34m:\u001b[0m\u001b[0;34m\u001b[0m\u001b[0;34m\u001b[0m\u001b[0m\n\u001b[1;32m      7\u001b[0m         \u001b[0;32mcontinue\u001b[0m\u001b[0;34m\u001b[0m\u001b[0;34m\u001b[0m\u001b[0m\n",
      "\u001b[0;31mNameError\u001b[0m: name 'sweep_dict' is not defined"
     ]
    }
   ],
   "source": [
    "all_res = dict()\n",
    "end = 0\n",
    "end_ids = []\n",
    "all_end_ids = []\n",
    "for key in sweep_dict:\n",
    "    if not key.startswith(\"assist2009_atktfix_forget_atc_0\"):\n",
    "        continue\n",
    "    try:\n",
    "        df = get_df(key, sweep_dict)\n",
    "        print(f\"ori df: {df.shape}\")\n",
    "        df = df.dropna(subset=[\"testauc\"])\n",
    "        print(f\"df dropna: {df.shape}\")\n",
    "        all_res[key] = df\n",
    "        df[\"Name\"] = df[\"Name\"].apply(\n",
    "            lambda a: int(a.split(\"-\")[-1]))  # 创建的任务名字有顺序\n",
    "#         df[\"key\"] = df[\"testauc\"] - df[\"Name\"]\n",
    "#         sorted_df = df.sort_values(\"key\", ascending=False)\n",
    "        sorted_df = df.sort_values(\"testauc\", ascending=False)\n",
    "\n",
    "        testauco = sorted_df[\"testauc\"].tolist()[0]\n",
    "        testacco = sorted_df[\"testacc\"].tolist()[0]\n",
    "        best_epoch = sorted_df[\"best_epoch\"].tolist()[0]\n",
    "\n",
    "        testauc = round(testauco, 4)\n",
    "        testacc = round(testacco, 4)\n",
    "        best_epoch = int(best_epoch)\n",
    "\n",
    "        topdf = df[round(df[\"testauc\"], 4) == testauc].sort_values(\"Name\")\n",
    "        best_name = topdf[\"Name\"].tolist()[0]\n",
    "        best_path_id = topdf[\"path_id\"].tolist()[0]\n",
    "#         print(df.shape)\n",
    "        print(key, sweep_dict[key], testauc, testacc,\n",
    "              best_epoch, best_name, best_path_id, topdf.shape[0])\n",
    "\n",
    "        end_cmd = f\"/root/anaconda3/envs/lqq_ktmore/bin/wandb sweep Shyann/{project_name}/{sweep_dict[key][0]} --cancel\"\n",
    "        not_improve_num = len(df[df['Name'] >= best_name])\n",
    "        if df.shape[0] > 300 and not_improve_num >= 100:\n",
    "            end += 1\n",
    "            print(\"end!!!\")\n",
    "            end_ids.append(end_cmd)\n",
    "#         else:\n",
    "        print(f\"已经有 {not_improve_num} 轮没提升了\")\n",
    "        all_end_ids.append(end_cmd)\n",
    "    except Exception as e:\n",
    "        print(e)\n",
    "        continue"
   ]
  },
  {
   "cell_type": "markdown",
   "metadata": {},
   "source": [
    "## 汇总emb结果"
   ]
  },
  {
   "cell_type": "code",
   "execution_count": 169,
   "metadata": {
    "scrolled": true
   },
   "outputs": [],
   "source": [
    "# api = wandb.Api()\n",
    "# project_name = \"kt_toolkits_emb\"\n",
    "# project = api.project(name=project_name)\n",
    "# sweep_dict = get_sweep_dict(project)\n",
    "# sweep_dict"
   ]
  },
  {
   "cell_type": "code",
   "execution_count": 19,
   "metadata": {},
   "outputs": [
    {
     "data": {
      "text/plain": [
       "{'assist2009_deepbkt_bayesian_forgetting_4': ['us3ebgtn'],\n",
       " 'assist2009_deepbkt_bayesian_forgetting_3': ['i0ukp0ev'],\n",
       " 'assist2009_deepbkt_bayesian_forgetting_2': ['y69jkfin'],\n",
       " 'assist2009_deepbkt_bayesian_forgetting_1': ['yp4pmvsa'],\n",
       " 'assist2009_deepbkt_bayesian_forgetting_0': ['zm3vr3dv'],\n",
       " 'assist2009_deepbkt_augmentation_forgetting_4': ['xp0rpo6p'],\n",
       " 'assist2009_deepbkt_augmentation_forgetting_3': ['nuxtv9k7'],\n",
       " 'assist2009_deepbkt_augmentation_forgetting_2': ['karr35xn'],\n",
       " 'assist2009_deepbkt_augmentation_forgetting_1': ['jyhkwfgi'],\n",
       " 'assist2009_deepbkt_augmentation_forgetting_0': ['eq2utqft', '2tkq5r7a'],\n",
       " 'atskhfdg': ['atskhfdg'],\n",
       " 'assist2009_deepbkt_all_4': ['q99t9ek2'],\n",
       " 'assist2009_deepbkt_all_3': ['e0l6ywvd'],\n",
       " 'assist2009_deepbkt_all_2': ['ssvwtsyd'],\n",
       " 'assist2009_deepbkt_all_1': ['p3ljm26m'],\n",
       " 'assist2009_deepbkt_all_0': ['8p19y63j'],\n",
       " 'assist2009_deepbkt_forgetting_4': ['gvwunjhm'],\n",
       " 'assist2009_deepbkt_forgetting_3': ['rqh6h58l'],\n",
       " 'assist2009_deepbkt_forgetting_2': ['0y8jlnhp'],\n",
       " 'assist2009_deepbkt_forgetting_1': ['cc7v00as'],\n",
       " 'assist2009_deepbkt_forgetting_0': ['2mk6up6w'],\n",
       " 'assist2009_deepbkt_augmentation_4': ['4ejs17ux'],\n",
       " 'assist2009_deepbkt_augmentation_3': ['tsuqc79m'],\n",
       " 'assist2009_deepbkt_augmentation_2': ['hw9suu9x'],\n",
       " 'assist2009_deepbkt_augmentation_1': ['rk4vxtup'],\n",
       " 'assist2009_deepbkt_augmentation_0': ['l8lvgj4a'],\n",
       " 'assist2009_deepbkt_augmentation_bayesian_4': ['mihhg0z2'],\n",
       " 'assist2009_deepbkt_augmentation_bayesian_3': ['sbkpo02u'],\n",
       " 'assist2009_deepbkt_augmentation_bayesian_2': ['um3xy0ow'],\n",
       " 'assist2009_deepbkt_augmentation_bayesian_1': ['x809lq61'],\n",
       " 'assist2009_deepbkt_augmentation_bayesian_0': ['2kd6fvet'],\n",
       " 'assist2009_deepbkt_bayesian_4': ['gukdm3fc'],\n",
       " 'assist2009_deepbkt_bayesian_3': ['k5qzuysb'],\n",
       " 'assist2009_deepbkt_bayesian_2': ['ufck9rll'],\n",
       " 'assist2009_deepbkt_bayesian_1': ['86w04fgp'],\n",
       " 'assist2009_deepbkt_bayesian_0': ['glyvuwxe'],\n",
       " 'assist2009_deepbkt_qid_4': ['46mj8142'],\n",
       " 'assist2009_deepbkt_qid_3': ['h7gyayos'],\n",
       " 'assist2009_deepbkt_qid_2': ['qofuf7rk'],\n",
       " 'assist2009_deepbkt_qid_1': ['w8m90drd'],\n",
       " 'assist2009_deepbkt_qid_0': ['w3g7l4cg']}"
      ]
     },
     "execution_count": 19,
     "metadata": {},
     "output_type": "execute_result"
    }
   ],
   "source": [
    "api = wandb.Api(timeout=19)\n",
    "project_name = \"pykt_dbkt\"\n",
    "project = api.project(name=project_name)\n",
    "sweep_dict = get_sweep_dict(project)\n",
    "sweep_dict"
   ]
  },
  {
   "cell_type": "code",
   "execution_count": 20,
   "metadata": {},
   "outputs": [],
   "source": [
    "result_save_dir = 'results'\n",
    "os.makedirs(result_save_dir, exist_ok=True)"
   ]
  },
  {
   "cell_type": "code",
   "execution_count": 21,
   "metadata": {
    "scrolled": true
   },
   "outputs": [
    {
     "data": {
      "text/plain": [
       "{'',\n",
       " 'assist2009_deepbkt_all',\n",
       " 'assist2009_deepbkt_augmentation',\n",
       " 'assist2009_deepbkt_augmentation_bayesian',\n",
       " 'assist2009_deepbkt_augmentation_forgetting',\n",
       " 'assist2009_deepbkt_bayesian',\n",
       " 'assist2009_deepbkt_bayesian_forgetting',\n",
       " 'assist2009_deepbkt_forgetting',\n",
       " 'assist2009_deepbkt_qid'}"
      ]
     },
     "execution_count": 21,
     "metadata": {},
     "output_type": "execute_result"
    }
   ],
   "source": [
    "groups = set([\"_\".join(x.split(\"_\")[:-1]) for x in list(sweep_dict.keys())])\n",
    "groups"
   ]
  },
  {
   "cell_type": "code",
   "execution_count": 22,
   "metadata": {},
   "outputs": [],
   "source": [
    "def save_pickle(data, path):\n",
    "    with open(path, \"wb\") as f:\n",
    "        pickle.dump(data, f)"
   ]
  },
  {
   "cell_type": "markdown",
   "metadata": {},
   "source": [
    "### 保存"
   ]
  },
  {
   "cell_type": "code",
   "execution_count": null,
   "metadata": {
    "scrolled": false
   },
   "outputs": [
    {
     "name": "stderr",
     "output_type": "stream",
     "text": [
      "/root/anaconda3/envs/4s_dev/lib/python3.7/site-packages/ipykernel_launcher.py:1: TqdmDeprecationWarning: This function will be removed in tqdm==5.0.0\n",
      "Please use `tqdm.notebook.tqdm` instead of `tqdm.tqdm_notebook`\n",
      "  \"\"\"Entry point for launching an IPython kernel.\n"
     ]
    },
    {
     "data": {
      "application/vnd.jupyter.widget-view+json": {
       "model_id": "0949f7796311433eb5d351986d9205d1",
       "version_major": 2,
       "version_minor": 0
      },
      "text/plain": [
       "  0%|          | 0/9 [00:00<?, ?it/s]"
      ]
     },
     "metadata": {},
     "output_type": "display_data"
    },
    {
     "name": "stderr",
     "output_type": "stream",
     "text": [
      "/root/anaconda3/envs/4s_dev/lib/python3.7/site-packages/ipykernel_launcher.py:3: TqdmDeprecationWarning: This function will be removed in tqdm==5.0.0\n",
      "Please use `tqdm.notebook.tqdm` instead of `tqdm.tqdm_notebook`\n",
      "  This is separate from the ipykernel package so we can avoid doing imports until\n"
     ]
    },
    {
     "data": {
      "application/vnd.jupyter.widget-view+json": {
       "model_id": "4535e1b4d31d44249e4202c02bec1c7a",
       "version_major": 2,
       "version_minor": 0
      },
      "text/plain": [
       "  0%|          | 0/188 [00:00<?, ?it/s]"
      ]
     },
     "metadata": {},
     "output_type": "display_data"
    }
   ],
   "source": [
    "for group in tqdm_notebook(groups):\n",
    "    if group not in ['assist2009_deepbkt_forgetting']:\n",
    "        continue\n",
    "    one_group_list = []\n",
    "    for cv in range(5):\n",
    "        key = f\"{group}_{cv}\"\n",
    "        df = get_df(key, sweep_dict)\n",
    "        one_group_list.append(df)\n",
    "    save_pickle(one_group_list,os.path.join(result_save_dir,f\"{group}.pkl\"))"
   ]
  },
  {
   "cell_type": "markdown",
   "metadata": {},
   "source": [
    "### 分析"
   ]
  },
  {
   "cell_type": "code",
   "execution_count": 13,
   "metadata": {},
   "outputs": [],
   "source": [
    "import shutil"
   ]
  },
  {
   "cell_type": "code",
   "execution_count": 14,
   "metadata": {},
   "outputs": [],
   "source": [
    "best_model_dir = 'data/best_models/assist2009_deepbkt_forgetting'\n",
    "raw_model_dir = \"/hw\"\n",
    "os.makedirs(best_model_dir,exist_ok=True)"
   ]
  },
  {
   "cell_type": "code",
   "execution_count": 15,
   "metadata": {},
   "outputs": [
    {
     "data": {
      "text/plain": [
       "['assist2009_deepbkt_forgetting']"
      ]
     },
     "execution_count": 15,
     "metadata": {},
     "output_type": "execute_result"
    }
   ],
   "source": [
    "# groups = ['assist2009_dkt_akt_vectoremb',\n",
    "#           'assist2009_dkt_atktemb',\n",
    "#           'assist2009_dkt_ektemb',\n",
    "#           'assist2009_dkt_lpktemb',\n",
    "#           'assist2009_dkt_akt_vectoremb',\n",
    "#           'assist2009_dkt_atktemb',\n",
    "#           'assist2009_dkt_ektemb',\n",
    "#           'assist2009_dkt_lpktemb']\n",
    "datasets = [\"assist2009\"]\n",
    "emb_types = ['forgetting']\n",
    "groups = []\n",
    "models = ['deepbkt']\n",
    "for dataset in datasets:\n",
    "    for model in models:\n",
    "        for emb in emb_types:\n",
    "            groups.append(f\"{dataset}_{model}_{emb}\")\n",
    "groups"
   ]
  },
  {
   "cell_type": "code",
   "execution_count": 16,
   "metadata": {},
   "outputs": [],
   "source": [
    "cols = ['testauc', 'testacc', 'window_testauc', 'window_testacc']"
   ]
  },
  {
   "cell_type": "code",
   "execution_count": 41,
   "metadata": {},
   "outputs": [],
   "source": [
    "#5-folds"
   ]
  },
  {
   "cell_type": "code",
   "execution_count": 33,
   "metadata": {},
   "outputs": [],
   "source": [
    "one_group = pytb.load_pickle(f\"results/algebra2005_lpkt_qid.pkl\")\n",
    "cv_results = [x.sort_values(\"testauc\",ascending=False).iloc[0] for x in one_group]\n",
    "df_one = pd.DataFrame(cv_results)"
   ]
  },
  {
   "cell_type": "code",
   "execution_count": null,
   "metadata": {},
   "outputs": [],
   "source": [
    "# one-fold"
   ]
  },
  {
   "cell_type": "code",
   "execution_count": 17,
   "metadata": {},
   "outputs": [],
   "source": [
    "one_group = pytb.load_pickle(f\"results/assist2009_deepbkt_forgetting.pkl\")\n",
    "cv_results = one_group[0].sort_values(\"testauc\",ascending=False).iloc[0]\n",
    "df_one = pd.DataFrame(cv_results)"
   ]
  },
  {
   "cell_type": "code",
   "execution_count": 18,
   "metadata": {
    "scrolled": false
   },
   "outputs": [
    {
     "data": {
      "text/html": [
       "<div>\n",
       "<style scoped>\n",
       "    .dataframe tbody tr th:only-of-type {\n",
       "        vertical-align: middle;\n",
       "    }\n",
       "\n",
       "    .dataframe tbody tr th {\n",
       "        vertical-align: top;\n",
       "    }\n",
       "\n",
       "    .dataframe thead th {\n",
       "        text-align: right;\n",
       "    }\n",
       "</style>\n",
       "<table border=\"1\" class=\"dataframe\">\n",
       "  <thead>\n",
       "    <tr style=\"text-align: right;\">\n",
       "      <th></th>\n",
       "      <th>68</th>\n",
       "    </tr>\n",
       "  </thead>\n",
       "  <tbody>\n",
       "    <tr>\n",
       "      <th>d_ff</th>\n",
       "      <td>512</td>\n",
       "    </tr>\n",
       "    <tr>\n",
       "      <th>fold</th>\n",
       "      <td>0</td>\n",
       "    </tr>\n",
       "    <tr>\n",
       "      <th>seed</th>\n",
       "      <td>42</td>\n",
       "    </tr>\n",
       "    <tr>\n",
       "      <th>d_model</th>\n",
       "      <td>256</td>\n",
       "    </tr>\n",
       "    <tr>\n",
       "      <th>dropout</th>\n",
       "      <td>0.2</td>\n",
       "    </tr>\n",
       "    <tr>\n",
       "      <th>emb_type</th>\n",
       "      <td>forgetting</td>\n",
       "    </tr>\n",
       "    <tr>\n",
       "      <th>n_blocks</th>\n",
       "      <td>2</td>\n",
       "    </tr>\n",
       "    <tr>\n",
       "      <th>save_dir</th>\n",
       "      <td>deepbkt_tiaocan_assist2009</td>\n",
       "    </tr>\n",
       "    <tr>\n",
       "      <th>model_name</th>\n",
       "      <td>deepbkt</td>\n",
       "    </tr>\n",
       "    <tr>\n",
       "      <th>dataset_name</th>\n",
       "      <td>assist2009</td>\n",
       "    </tr>\n",
       "    <tr>\n",
       "      <th>final_fc_dim</th>\n",
       "      <td>512</td>\n",
       "    </tr>\n",
       "    <tr>\n",
       "      <th>learning_rate</th>\n",
       "      <td>0.0001</td>\n",
       "    </tr>\n",
       "    <tr>\n",
       "      <th>num_attn_heads</th>\n",
       "      <td>4</td>\n",
       "    </tr>\n",
       "    <tr>\n",
       "      <th>Name</th>\n",
       "      <td>radiant-sweep-120</td>\n",
       "    </tr>\n",
       "    <tr>\n",
       "      <th>path_id</th>\n",
       "      <td>ae7d7fzt</td>\n",
       "    </tr>\n",
       "    <tr>\n",
       "      <th>_timestamp</th>\n",
       "      <td>1.65871e+09</td>\n",
       "    </tr>\n",
       "    <tr>\n",
       "      <th>best_epoch</th>\n",
       "      <td>36</td>\n",
       "    </tr>\n",
       "    <tr>\n",
       "      <th>model_save_path</th>\n",
       "      <td>deepbkt_tiaocan_assist2009/assist2009_deepbkt_forgetting_deepbkt_tiaocan_assist2009_42_0_0.2_256_512_512_4_2_0.0001_1_1_1651f16e-f23b-4a83-aec6-021dfd50d592/forgetting_model.ckpt</td>\n",
       "    </tr>\n",
       "    <tr>\n",
       "      <th>_runtime</th>\n",
       "      <td>1378</td>\n",
       "    </tr>\n",
       "    <tr>\n",
       "      <th>_wandb</th>\n",
       "      <td>{'runtime': 1378}</td>\n",
       "    </tr>\n",
       "    <tr>\n",
       "      <th>testacc</th>\n",
       "      <td>0.7784</td>\n",
       "    </tr>\n",
       "    <tr>\n",
       "      <th>testauc</th>\n",
       "      <td>0.8444</td>\n",
       "    </tr>\n",
       "    <tr>\n",
       "      <th>validacc</th>\n",
       "      <td>0.7886</td>\n",
       "    </tr>\n",
       "    <tr>\n",
       "      <th>validauc</th>\n",
       "      <td>0.8483</td>\n",
       "    </tr>\n",
       "    <tr>\n",
       "      <th>window_testacc</th>\n",
       "      <td>-1</td>\n",
       "    </tr>\n",
       "    <tr>\n",
       "      <th>window_testauc</th>\n",
       "      <td>-1</td>\n",
       "    </tr>\n",
       "    <tr>\n",
       "      <th>_step</th>\n",
       "      <td>0</td>\n",
       "    </tr>\n",
       "  </tbody>\n",
       "</table>\n",
       "</div>"
      ],
      "text/plain": [
       "                                                                                                                                                                                                 68\n",
       "d_ff                                                                                                                                                                                            512\n",
       "fold                                                                                                                                                                                              0\n",
       "seed                                                                                                                                                                                             42\n",
       "d_model                                                                                                                                                                                         256\n",
       "dropout                                                                                                                                                                                         0.2\n",
       "emb_type                                                                                                                                                                                 forgetting\n",
       "n_blocks                                                                                                                                                                                          2\n",
       "save_dir                                                                                                                                                                 deepbkt_tiaocan_assist2009\n",
       "model_name                                                                                                                                                                                  deepbkt\n",
       "dataset_name                                                                                                                                                                             assist2009\n",
       "final_fc_dim                                                                                                                                                                                    512\n",
       "learning_rate                                                                                                                                                                                0.0001\n",
       "num_attn_heads                                                                                                                                                                                    4\n",
       "Name                                                                                                                                                                              radiant-sweep-120\n",
       "path_id                                                                                                                                                                                    ae7d7fzt\n",
       "_timestamp                                                                                                                                                                              1.65871e+09\n",
       "best_epoch                                                                                                                                                                                       36\n",
       "model_save_path  deepbkt_tiaocan_assist2009/assist2009_deepbkt_forgetting_deepbkt_tiaocan_assist2009_42_0_0.2_256_512_512_4_2_0.0001_1_1_1651f16e-f23b-4a83-aec6-021dfd50d592/forgetting_model.ckpt\n",
       "_runtime                                                                                                                                                                                       1378\n",
       "_wandb                                                                                                                                                                            {'runtime': 1378}\n",
       "testacc                                                                                                                                                                                      0.7784\n",
       "testauc                                                                                                                                                                                      0.8444\n",
       "validacc                                                                                                                                                                                     0.7886\n",
       "validauc                                                                                                                                                                                     0.8483\n",
       "window_testacc                                                                                                                                                                                   -1\n",
       "window_testauc                                                                                                                                                                                   -1\n",
       "_step                                                                                                                                                                                             0"
      ]
     },
     "execution_count": 18,
     "metadata": {},
     "output_type": "execute_result"
    }
   ],
   "source": [
    "df_one"
   ]
  },
  {
   "cell_type": "code",
   "execution_count": 42,
   "metadata": {},
   "outputs": [
    {
     "data": {
      "text/plain": [
       "-1.0"
      ]
     },
     "execution_count": 42,
     "metadata": {},
     "output_type": "execute_result"
    }
   ],
   "source": [
    "df_one[\"window_testacc\"].mean()"
   ]
  },
  {
   "cell_type": "code",
   "execution_count": 41,
   "metadata": {},
   "outputs": [
    {
     "data": {
      "text/plain": [
       "0.0004098780306383821"
      ]
     },
     "execution_count": 41,
     "metadata": {},
     "output_type": "execute_result"
    }
   ],
   "source": [
    "df_one[\"testacc\"].std()"
   ]
  },
  {
   "cell_type": "code",
   "execution_count": null,
   "metadata": {},
   "outputs": [],
   "source": []
  },
  {
   "cell_type": "code",
   "execution_count": 45,
   "metadata": {},
   "outputs": [
    {
     "data": {
      "text/plain": [
       "['akt_vector_tiaocan_assist2009/assist2009_akt_vector_qid_akt_vector_tiaocan_assist2009_3407_0_0.15_256_512_8_4_0.0001_1_1_dc66aa10-250d-4a1a-879f-80f80b13f6bd/qid_model.ckpt',\n",
       " 'akt_vector_tiaocan_assist2009/assist2009_akt_vector_qid_akt_vector_tiaocan_assist2009_224_1_0.05_256_256_4_4_1e-05_1_1_6681870f-d2e8-4ac6-bc08-adeb80ee8739/qid_model.ckpt',\n",
       " 'akt_vector_tiaocan_assist2009/assist2009_akt_vector_qid_akt_vector_tiaocan_assist2009_224_2_0.1_256_256_4_4_1e-05_1_1_01ece1cc-646f-4a39-aaaf-f6c443c522cd/qid_model.ckpt',\n",
       " 'akt_vector_tiaocan_assist2009/assist2009_akt_vector_qid_akt_vector_tiaocan_assist2009_3407_3_0.05_256_512_4_4_1e-05_1_1_d8d7d359-c536-41a4-94e0-3e6fa14dd211/qid_model.ckpt',\n",
       " 'akt_vector_tiaocan_assist2009/assist2009_akt_vector_qid_akt_vector_tiaocan_assist2009_3407_4_0.15_256_512_4_4_0.0001_1_1_bb456171-9504-477a-a77f-9a8998b3696b/qid_model.ckpt']"
      ]
     },
     "execution_count": 45,
     "metadata": {},
     "output_type": "execute_result"
    }
   ],
   "source": [
    "model_paths = df_one[\"model_save_path\"].tolist()\n",
    "model_paths"
   ]
  },
  {
   "cell_type": "code",
   "execution_count": 41,
   "metadata": {},
   "outputs": [],
   "source": [
    "file_name = \"aktvec_qid\""
   ]
  },
  {
   "cell_type": "code",
   "execution_count": 46,
   "metadata": {},
   "outputs": [
    {
     "data": {
      "text/plain": [
       "['akt_vector_tiaocan_assist2009/assist2009_akt_vector_qid_akt_vector_tiaocan_assist2009_3407_0_0.15_256_512_8_4_0.0001_1_1_dc66aa10-250d-4a1a-879f-80f80b13f6bd/',\n",
       " 'akt_vector_tiaocan_assist2009/assist2009_akt_vector_qid_akt_vector_tiaocan_assist2009_224_1_0.05_256_256_4_4_1e-05_1_1_6681870f-d2e8-4ac6-bc08-adeb80ee8739/',\n",
       " 'akt_vector_tiaocan_assist2009/assist2009_akt_vector_qid_akt_vector_tiaocan_assist2009_224_2_0.1_256_256_4_4_1e-05_1_1_01ece1cc-646f-4a39-aaaf-f6c443c522cd/',\n",
       " 'akt_vector_tiaocan_assist2009/assist2009_akt_vector_qid_akt_vector_tiaocan_assist2009_3407_3_0.05_256_512_4_4_1e-05_1_1_d8d7d359-c536-41a4-94e0-3e6fa14dd211/',\n",
       " 'akt_vector_tiaocan_assist2009/assist2009_akt_vector_qid_akt_vector_tiaocan_assist2009_3407_4_0.15_256_512_4_4_0.0001_1_1_bb456171-9504-477a-a77f-9a8998b3696b/']"
      ]
     },
     "execution_count": 46,
     "metadata": {},
     "output_type": "execute_result"
    }
   ],
   "source": [
    "model_paths = [x.rstrip(\"qid_model.ckpt\") for x in model_paths]\n",
    "model_paths"
   ]
  },
  {
   "cell_type": "code",
   "execution_count": 47,
   "metadata": {},
   "outputs": [],
   "source": [
    "fpath = \"/data/huangshuyan/shyann_dev/pykt-toolkit/examples/seedwandb/predict.yaml\"\n",
    "ftarget = \"/data/huangshuyan/shyann_dev/pykt-toolkit/examples/seedwandb/{}.yaml\".format(file_name)"
   ]
  },
  {
   "cell_type": "code",
   "execution_count": 48,
   "metadata": {},
   "outputs": [],
   "source": [
    "with open(fpath,\"r\") as fin,\\\n",
    "    open(ftarget,\"w\") as fout:\n",
    "    data = yaml.load(fin, Loader=yaml.FullLoader)\n",
    "    name = ftarget.split('_')\n",
    "    data['name'] = '_'.join(name[:4])\n",
    "    data['parameters']['save_dir']['values'] = model_paths\n",
    "    yaml.dump(data, fout)"
   ]
  },
  {
   "cell_type": "code",
   "execution_count": 96,
   "metadata": {},
   "outputs": [],
   "source": [
    "df_one.to_csv('./results/assist2009_akt_vectorvec.forget_atc_lstmy_forget_atc')"
   ]
  },
  {
   "cell_type": "code",
   "execution_count": 183,
   "metadata": {
    "scrolled": true
   },
   "outputs": [
    {
     "name": "stderr",
     "output_type": "stream",
     "text": [
      "/root/anaconda3/envs/4s_dev/lib/python3.7/site-packages/ipykernel_launcher.py:2: TqdmDeprecationWarning: This function will be removed in tqdm==5.0.0\n",
      "Please use `tqdm.notebook.tqdm` instead of `tqdm.tqdm_notebook`\n",
      "  \n"
     ]
    },
    {
     "data": {
      "application/vnd.jupyter.widget-view+json": {
       "model_id": "56ef4442bc7145788fb4d4d15c39750e",
       "version_major": 2,
       "version_minor": 0
      },
      "text/plain": [
       "  0%|          | 0/1 [00:00<?, ?it/s]"
      ]
     },
     "metadata": {},
     "output_type": "display_data"
    }
   ],
   "source": [
    "cv_report_list = []\n",
    "for group in tqdm_notebook(groups):\n",
    "    one_group = pytb.load_pickle(f\"data/wandb_result/{group}.pkl\")\n",
    "    cv_results = [x.sort_values(\"testauc\",ascending=False).iloc[0] for x in one_group]\n",
    "    df_one = pd.DataFrame(cv_results)\n",
    "    cv_report = {'group':group}\n",
    "    mean_report = df_one[cols].mean(axis=0).to_dict()\n",
    "    std_report = df_one[cols].std(axis=0,ddof=0).to_dict()\n",
    "    for k in mean_report:\n",
    "        cv_report[k] = \"{:.4f}±{:.4f}\".format(mean_report[k], std_report[k])\n",
    "    cv_report_list.append(cv_report)\n",
    "    \n",
    "    \n",
    "    \n",
    "#     for _,row in df_one.iterrows():\n",
    "#         model_save_dir = os.path.join(raw_model_dir,os.path.dirname(row['model_save_path']))\n",
    "#         dir_name = os.path.basename(model_save_dir)\n",
    "#         new_save_dir = os.path.join(best_model_dir,group,f\"{dir_name}_{row['fold']}\")\n",
    "#         print(f\"model_save_dir is {model_save_dir}\")\n",
    "#         print(f\"new_save_dir is {new_save_dir}\")\n",
    "#         print()\n",
    "# #         model_save_dir = os.path.dirname(row['model_save_path'])\n",
    "# #         shutil.copytree(model_save_dir,new_save_dir)"
   ]
  },
  {
   "cell_type": "code",
   "execution_count": 151,
   "metadata": {},
   "outputs": [
    {
     "ename": "NameError",
     "evalue": "name 'cv_report_list' is not defined",
     "output_type": "error",
     "traceback": [
      "\u001b[0;31m---------------------------------------------------------------------------\u001b[0m",
      "\u001b[0;31mNameError\u001b[0m                                 Traceback (most recent call last)",
      "\u001b[0;32m<ipython-input-151-f27037a60aa4>\u001b[0m in \u001b[0;36m<module>\u001b[0;34m\u001b[0m\n\u001b[0;32m----> 1\u001b[0;31m \u001b[0mdf_report\u001b[0m \u001b[0;34m=\u001b[0m \u001b[0mpd\u001b[0m\u001b[0;34m.\u001b[0m\u001b[0mDataFrame\u001b[0m\u001b[0;34m(\u001b[0m\u001b[0mcv_report_list\u001b[0m\u001b[0;34m)\u001b[0m\u001b[0;34m\u001b[0m\u001b[0;34m\u001b[0m\u001b[0m\n\u001b[0m\u001b[1;32m      2\u001b[0m \u001b[0mdf_report\u001b[0m\u001b[0;34m\u001b[0m\u001b[0;34m\u001b[0m\u001b[0m\n",
      "\u001b[0;31mNameError\u001b[0m: name 'cv_report_list' is not defined"
     ]
    }
   ],
   "source": [
    "df_report = pd.DataFrame(cv_report_list)\n",
    "df_report"
   ]
  },
  {
   "cell_type": "code",
   "execution_count": 119,
   "metadata": {},
   "outputs": [
    {
     "data": {
      "text/html": [
       "<div>\n",
       "<style scoped>\n",
       "    .dataframe tbody tr th:only-of-type {\n",
       "        vertical-align: middle;\n",
       "    }\n",
       "\n",
       "    .dataframe tbody tr th {\n",
       "        vertical-align: top;\n",
       "    }\n",
       "\n",
       "    .dataframe thead th {\n",
       "        text-align: right;\n",
       "    }\n",
       "</style>\n",
       "<table border=\"1\" class=\"dataframe\">\n",
       "  <thead>\n",
       "    <tr style=\"text-align: right;\">\n",
       "      <th></th>\n",
       "      <th>group</th>\n",
       "      <th>testauc</th>\n",
       "      <th>testacc</th>\n",
       "      <th>window_testauc</th>\n",
       "      <th>window_testacc</th>\n",
       "    </tr>\n",
       "  </thead>\n",
       "  <tbody>\n",
       "    <tr>\n",
       "      <th>0</th>\n",
       "      <td>bridge2algebra2006_gkt_qid</td>\n",
       "      <td>0.8018±0.0007</td>\n",
       "      <td>0.8549±0.0003</td>\n",
       "      <td>-1.0000±0.0000</td>\n",
       "      <td>-1.0000±0.0000</td>\n",
       "    </tr>\n",
       "  </tbody>\n",
       "</table>\n",
       "</div>"
      ],
      "text/plain": [
       "                        group        testauc        testacc  window_testauc  \\\n",
       "0  bridge2algebra2006_gkt_qid  0.8018±0.0007  0.8549±0.0003  -1.0000±0.0000   \n",
       "\n",
       "   window_testacc  \n",
       "0  -1.0000±0.0000  "
      ]
     },
     "execution_count": 119,
     "metadata": {},
     "output_type": "execute_result"
    }
   ],
   "source": [
    "df_report = pd.DataFrame(cv_report_list)\n",
    "df_report"
   ]
  },
  {
   "cell_type": "code",
   "execution_count": 59,
   "metadata": {},
   "outputs": [
    {
     "data": {
      "text/html": [
       "<div>\n",
       "<style scoped>\n",
       "    .dataframe tbody tr th:only-of-type {\n",
       "        vertical-align: middle;\n",
       "    }\n",
       "\n",
       "    .dataframe tbody tr th {\n",
       "        vertical-align: top;\n",
       "    }\n",
       "\n",
       "    .dataframe thead th {\n",
       "        text-align: right;\n",
       "    }\n",
       "</style>\n",
       "<table border=\"1\" class=\"dataframe\">\n",
       "  <thead>\n",
       "    <tr style=\"text-align: right;\">\n",
       "      <th></th>\n",
       "      <th>testauc</th>\n",
       "      <th>testacc</th>\n",
       "      <th>window_testauc</th>\n",
       "      <th>window_testacc</th>\n",
       "    </tr>\n",
       "  </thead>\n",
       "  <tbody>\n",
       "    <tr>\n",
       "      <th>0</th>\n",
       "      <td>0.8083±0.0040</td>\n",
       "      <td>0.7926±0.0013</td>\n",
       "      <td>-1.0000±0.0000</td>\n",
       "      <td>-1.0000±0.0000</td>\n",
       "    </tr>\n",
       "  </tbody>\n",
       "</table>\n",
       "</div>"
      ],
      "text/plain": [
       "         testauc        testacc  window_testauc  window_testacc\n",
       "0  0.8083±0.0040  0.7926±0.0013  -1.0000±0.0000  -1.0000±0.0000"
      ]
     },
     "execution_count": 59,
     "metadata": {},
     "output_type": "execute_result"
    }
   ],
   "source": [
    "df_report[cols]"
   ]
  },
  {
   "cell_type": "code",
   "execution_count": 60,
   "metadata": {},
   "outputs": [
    {
     "data": {
      "text/html": [
       "<div>\n",
       "<style scoped>\n",
       "    .dataframe tbody tr th:only-of-type {\n",
       "        vertical-align: middle;\n",
       "    }\n",
       "\n",
       "    .dataframe tbody tr th {\n",
       "        vertical-align: top;\n",
       "    }\n",
       "\n",
       "    .dataframe thead th {\n",
       "        text-align: right;\n",
       "    }\n",
       "</style>\n",
       "<table border=\"1\" class=\"dataframe\">\n",
       "  <thead>\n",
       "    <tr style=\"text-align: right;\">\n",
       "      <th></th>\n",
       "      <th>group</th>\n",
       "      <th>testauc</th>\n",
       "      <th>testacc</th>\n",
       "      <th>window_testauc</th>\n",
       "      <th>window_testacc</th>\n",
       "    </tr>\n",
       "  </thead>\n",
       "  <tbody>\n",
       "    <tr>\n",
       "      <th>0</th>\n",
       "      <td>statics2011_gkt_qid</td>\n",
       "      <td>0.8083±0.0040</td>\n",
       "      <td>0.7926±0.0013</td>\n",
       "      <td>-1.0000±0.0000</td>\n",
       "      <td>-1.0000±0.0000</td>\n",
       "    </tr>\n",
       "  </tbody>\n",
       "</table>\n",
       "</div>"
      ],
      "text/plain": [
       "                 group        testauc        testacc  window_testauc  \\\n",
       "0  statics2011_gkt_qid  0.8083±0.0040  0.7926±0.0013  -1.0000±0.0000   \n",
       "\n",
       "   window_testacc  \n",
       "0  -1.0000±0.0000  "
      ]
     },
     "execution_count": 60,
     "metadata": {},
     "output_type": "execute_result"
    }
   ],
   "source": [
    "df_report"
   ]
  },
  {
   "cell_type": "markdown",
   "metadata": {},
   "source": [
    "## 其它"
   ]
  },
  {
   "cell_type": "code",
   "execution_count": null,
   "metadata": {},
   "outputs": [],
   "source": []
  },
  {
   "cell_type": "code",
   "execution_count": null,
   "metadata": {},
   "outputs": [],
   "source": []
  },
  {
   "cell_type": "code",
   "execution_count": null,
   "metadata": {},
   "outputs": [],
   "source": [
    "def get_params(paramsf):\n",
    "    lines = open(paramsf).read().split(\"\\n\")\n",
    "    params, params_hy = [], []\n",
    "    for i in range(0, len(lines)):\n",
    "        cur = lines[i]\n",
    "        pre = \"\"\n",
    "        if i > 0:\n",
    "            pre = lines[i-1]\n",
    "        if pre == \"\":\n",
    "            continue\n",
    "        idx = cur.find(\"values\")\n",
    "        if idx != -1:\n",
    "            key = pre.strip().replace(\":\", \"\")\n",
    "            params.append(key)\n",
    "            \n",
    "            if key not in [\"fold\", \"seed\"]:\n",
    "                params_hy.append(key)\n",
    "    return params, params_hy\n"
   ]
  },
  {
   "cell_type": "code",
   "execution_count": null,
   "metadata": {
    "code_folding": []
   },
   "outputs": [],
   "source": [
    "import numpy as np\n",
    "\n",
    "diffs = []\n",
    "dataset_name = \"all_wandbs\"\n",
    "for key in all_res:\n",
    "    d = dict()    \n",
    "    paramsf = os.path.join(dataset_name, key+\".yaml\")\n",
    "    params, params_hy = get_params(paramsf)\n",
    "#     params = sorted(params)\n",
    "    df = all_res[key].dropna()\n",
    "    if \"testauc\" not in df.keys():\n",
    "        continue\n",
    "#     print(df)\n",
    "#     sorted_df = df.sort_values(\"testauc\",ascending=False)\n",
    "    \n",
    "    pams = dict()\n",
    "    for i, row in df.iterrows():\n",
    "        fold, seed = row[\"fold\"], row[\"seed\"]\n",
    "        params_hystr = \"_\".join([str(s) for s in row[params_hy].values])\n",
    "        d.setdefault(params_hystr, dict())\n",
    "        d[params_hystr].setdefault(fold, dict())\n",
    "        d[params_hystr][fold].setdefault(seed, [])\n",
    "        \n",
    "        params_str = \"_\".join([str(s) for s in row[params].values])\n",
    "        if params_str in pams: # 去重\n",
    "            curauc = row[\"testauc\"]\n",
    "            if curauc != pams[params_str]:\n",
    "                print(f\"bad!! params: {params_str}, curauc: {curauc}, saveauc: {pams[params_str]}\")\n",
    "            continue\n",
    "        pams[params_str] = row[\"testauc\"]\n",
    "        values = [row[\"testauc\"], row[\"testacc\"], row[\"window_testauc\"], row[\"window_testacc\"]]\n",
    "        d[params_hystr][fold][seed] = values\n",
    "    print(f\"df: {df.shape}, len(pams): {len(pams)}\")\n",
    "        \n",
    "    maxres = [0.0] * 8\n",
    "    for params in d:\n",
    "        aucs, accs, winaucs, winaccs = [], [], [], []\n",
    "        for fold in d[params]:\n",
    "            auc, acc, winauc, winacc = 0.0, 0.0, 0.0, 0.0\n",
    "            for seed in d[params][fold]:\n",
    "                curauc, curacc, curwinauc, curwinacc = d[params][fold][seed]\n",
    "#                 print(f\"params: {params}, fold: {fold}, seed: {seed}, len: {len(d[params][fold][seed])}\")\n",
    "                if curauc > auc:\n",
    "                    auc, acc, winauc, winacc = curauc, curacc, curwinauc, curwinacc\n",
    "#             print(f\"params: {params}, fold: {fold}, len: {len(d[params][fold])}, auc: {auc}, acc: {acc}, winauc: {winauc}, winacc: {winacc}\")\n",
    "            aucs.append(auc)\n",
    "            accs.append(acc)\n",
    "            winaucs.append(winauc)\n",
    "            winaccs.append(winacc)\n",
    "            \n",
    "        auc_mean, auc_std = round(np.mean(aucs), 4), round(np.std(aucs, ddof=0), 4)\n",
    "        acc_mean, acc_std = round(np.mean(accs), 4), round(np.std(accs, ddof=0), 4)\n",
    "        winauc_mean, winauc_std = round(np.mean(winaucs), 4), round(np.std(winaucs, ddof=0), 4)\n",
    "        winacc_mean, winacc_std = round(np.mean(winaccs), 4), round(np.std(winaccs, ddof=0), 4)\n",
    "                \n",
    "#         print(f\"\\nparams: {params}, auc_mean: {auc_mean}, acc_mean: {acc_mean}, winauc_mean: {winauc_mean}, winacc_mean: {winacc_mean}\")\n",
    "#         print(f\"    auc_std: {auc_std}, acc_std: {acc_std}, winauc_std: {winauc_std}, winacc_std: {winacc_std}\")\n",
    "        \n",
    "#         print(\"=\"*20)\n",
    "        \n",
    "        if auc_mean > maxres[0]:\n",
    "            maxres = [auc_mean, auc_std, acc_mean, acc_std, winauc_mean, winauc_std, winacc_mean, winacc_std]\n",
    "            \n",
    "    print(key, maxres)\n",
    "\n",
    "        "
   ]
  },
  {
   "cell_type": "code",
   "execution_count": null,
   "metadata": {},
   "outputs": [],
   "source": [
    "import numpy as np\n",
    "\n",
    "diffs = []\n",
    "dataset_name = \"all_wandbs\"\n",
    "for key in all_res:\n",
    "    d = dict()    \n",
    "    paramsf = os.path.join(dataset_name, key+\".yaml\")\n",
    "    params, params_hy = get_params(paramsf)\n",
    "#     params = sorted(params)\n",
    "    df = all_res[key].dropna()\n",
    "    if \"testauc\" not in df.keys():\n",
    "        continue\n",
    "#     print(df)\n",
    "#     sorted_df = df.sort_values(\"testauc\",ascending=False)\n",
    "    \n",
    "    pams = dict()\n",
    "    for i, row in df.iterrows():\n",
    "        fold, seed = row[\"fold\"], row[\"seed\"]\n",
    "        params_hystr = \"_\".join([str(s) for s in row[params_hy].values])\n",
    "        d.setdefault(fold, dict())\n",
    "        d[fold].setdefault(params_hystr, dict())\n",
    "        d[fold][params_hystr].setdefault(seed, [])\n",
    "        \n",
    "        params_str = \"_\".join([str(s) for s in row[params].values])\n",
    "        if params_str in pams: # 去重\n",
    "            curauc = row[\"testauc\"]\n",
    "            if curauc != pams[params_str][0]:\n",
    "                print(f\"bad!! params: {params_str}, curauc: {curauc}, saveauc: {pams[params_str]}\")\n",
    "                print(row[\"Name\"])\n",
    "            continue\n",
    "        pams[params_str] = [row[\"testauc\"], row[\"Name\"]]\n",
    "        values = [row[\"testauc\"], row[\"testacc\"], row[\"window_testauc\"], row[\"window_testacc\"]]\n",
    "        d[fold][params_hystr][seed] = values\n",
    "    print(f\"df: {df.shape}, len(pams): {len(pams)}\")\n",
    "        \n",
    "    aucs, accs, winaucs, winaccs = [], [], [], []\n",
    "    for fold in d:\n",
    "        auc, acc, winauc, winacc = 0.0, 0.0, 0.0, 0.0\n",
    "        for params in d[fold]:\n",
    "            for seed in d[fold][params]:\n",
    "                curauc, curacc, curwinauc, curwinacc = d[fold][params][seed]\n",
    "#                 print(f\"params: {params}, fold: {fold}, seed: {seed}, len: {len(d[params][fold][seed])}\")\n",
    "                if curauc > auc:\n",
    "                    auc, acc, winauc, winacc = curauc, curacc, curwinauc, curwinacc\n",
    "#             print(f\"params: {params}, fold: {fold}, len: {len(d[params][fold])}, auc: {auc}, acc: {acc}, winauc: {winauc}, winacc: {winacc}\")\n",
    "        aucs.append(auc)\n",
    "        accs.append(acc)\n",
    "        winaucs.append(winauc)\n",
    "        winaccs.append(winacc)\n",
    "            \n",
    "    auc_mean, auc_std = round(np.mean(aucs), 4), round(np.std(aucs, ddof=0), 4)\n",
    "    acc_mean, acc_std = round(np.mean(accs), 4), round(np.std(accs, ddof=0), 4)\n",
    "    winauc_mean, winauc_std = round(np.mean(winaucs), 4), round(np.std(winaucs, ddof=0), 4)\n",
    "    winacc_mean, winacc_std = round(np.mean(winaccs), 4), round(np.std(winaccs, ddof=0), 4)\n",
    "                \n",
    "#         print(f\"\\nparams: {params}, auc_mean: {auc_mean}, acc_mean: {acc_mean}, winauc_mean: {winauc_mean}, winacc_mean: {winacc_mean}\")\n",
    "#         print(f\"    auc_std: {auc_std}, acc_std: {acc_std}, winauc_std: {winauc_std}, winacc_std: {winacc_std}\")\n",
    "        \n",
    "#         print(\"=\"*20)\n",
    "            \n",
    "    print(key, auc_mean, auc_std, acc_mean, acc_std, winauc_mean, winauc_std, winacc_mean, winacc_std)\n",
    "\n",
    "        "
   ]
  },
  {
   "cell_type": "code",
   "execution_count": null,
   "metadata": {},
   "outputs": [],
   "source": []
  },
  {
   "cell_type": "code",
   "execution_count": null,
   "metadata": {},
   "outputs": [],
   "source": [
    "diffs = []\n",
    "dataset_name = \"all_wandbs\"\n",
    "for key in all_res:\n",
    "#     if not key.startswith(\"xes_dkt_forget_atccatr\"):\n",
    "#         continue\n",
    "    d = dict()\n",
    "    d.setdefault(key, dict())\n",
    "    keys = []\n",
    "    paramsf = os.path.join(dataset_name, key+\".yaml\")\n",
    "    params = get_params(paramsf)\n",
    "    params = sorted(params)\n",
    "    df = all_res[key].dropna()\n",
    "    if \"testauc\" not in df.keys():\n",
    "        continue\n",
    "#     print(df)\n",
    "    sorted_df = df.sort_values(\"testauc\",ascending=False)\n",
    "    \n",
    "    top1 = sorted_df[0:1]\n",
    "    for i, row in top1[params].iterrows():\n",
    "        params_str = \"_\".join([str(s) for s in row.values])\n",
    "    d[key].setdefault(params_str, [])\n",
    "    print(params_str)\n",
    "\n",
    "    for i, row in sorted_df.iterrows():\n",
    "        try:\n",
    "            testauc = row[\"testauc\"]\n",
    "            testacc = row[\"testacc\"]\n",
    "            best_epoch = row[\"best_epoch\"]\n",
    "            testauc = round(testauc, 4)\n",
    "            testacc = round(testacc, 4)\n",
    "            best_epoch = int(best_epoch)\n",
    "            curparams = \"_\".join([str(s) for s in row[params].values])\n",
    "    #         print(curparams)\n",
    "            if params_str == curparams:\n",
    "                d[key][params_str].append([testauc, row[\"Name\"]])\n",
    "        except Exception as e:\n",
    "            print(key, row)\n",
    "            print(e)\n",
    "            import sys\n",
    "            sys.exit()\n",
    "    min_auc = d[key][params_str][-1][0]\n",
    "    max_auc = d[key][params_str][0][0]\n",
    "    print(len(d[key][params_str]))\n",
    "#     min_auc = sorted_df[\"testauc\"].tolist()[-1]\n",
    "#     max_auc = sorted_df[\"testauc\"].tolist()[0]\n",
    "    maxdiff = round(max_auc-min_auc,4)\n",
    "    print(key, min_auc, max_auc, maxdiff, df.shape[0])#, len(d[key][params_str]), df.shape[0])\n",
    "    diffs.append(maxdiff)\n",
    "sorted(diffs)"
   ]
  },
  {
   "cell_type": "code",
   "execution_count": null,
   "metadata": {},
   "outputs": [],
   "source": [
    "# preend = \"WANDB_API_KEY=dc95dfebd33a883d3bdd540b4396189aad828f59 wandb sweep kitty3/knowledge_tracing_models/\"\n",
    "\n",
    "# for key in sweep_dict:\n",
    "#     val = sweep_dict[key]\n",
    "#     cmd = preend + val[0] + \" --cancel\"\n",
    "#     print(cmd)\n",
    "\n"
   ]
  },
  {
   "cell_type": "code",
   "execution_count": null,
   "metadata": {},
   "outputs": [],
   "source": [
    "# paramsf = \"./Statics2011_wandb/Statics2011_dkvmn_forget_atc.yaml\"\n",
    "# def get_top1_params(paramsf):\n",
    "#     lines = open(paramsf).read().split(\"\\n\")\n",
    "#     res = []\n",
    "#     for i in range(0, len(lines)):\n",
    "#         cur = lines[i]\n",
    "#         pre = \"\"\n",
    "#         if i > 0:\n",
    "#             pre = lines[i-1]\n",
    "#         if pre == \"\":\n",
    "#             res.append(cur)\n",
    "#             continue\n",
    "#         idx = cur.find(\"values\")\n",
    "#         if idx != -1:\n",
    "#             key = pre.strip().replace(\":\", \"\")\n",
    "#             res.append(cur[:idx] + \"values: \" + \"[\" + str(top1[key].tolist()[0]) + \"]\")\n",
    "#         else:\n",
    "#             res.append(cur)\n",
    "#     return res\n"
   ]
  },
  {
   "cell_type": "code",
   "execution_count": null,
   "metadata": {},
   "outputs": [],
   "source": [
    "# for key in sweep_dict:\n",
    "#     yaml = key + \".yaml\"\n",
    "    \n",
    "#     df = get_df(key,sweep_dict)\n",
    "#     sorted_df = df.sort_values(\"testauc\",ascending=False)\n",
    "#     top1 = sorted_df[0:1]\n",
    "# top1"
   ]
  },
  {
   "cell_type": "code",
   "execution_count": null,
   "metadata": {},
   "outputs": [],
   "source": [
    "# def download(sweep_dict):\n",
    "#     d_data = dict()\n",
    "#     for key in sweep_dict:\n",
    "#         try:\n",
    "#             df = get_df(key, sweep_dict)\n",
    "#             d_data[key] = df\n",
    "#         except:\n",
    "#             continue\n",
    "#     return d_data\n",
    "# all_res = download(sweep_dict)"
   ]
  },
  {
   "cell_type": "code",
   "execution_count": null,
   "metadata": {},
   "outputs": [],
   "source": [
    "# def get_params(paramsf):\n",
    "#     lines = open(paramsf).read().split(\"\\n\")\n",
    "#     res = []\n",
    "#     for i in range(0, len(lines)):\n",
    "#         cur = lines[i]\n",
    "#         pre = \"\"\n",
    "#         if i > 0:\n",
    "#             pre = lines[i-1]\n",
    "#         if pre == \"\":\n",
    "#             continue\n",
    "#         idx = cur.find(\"values\")\n",
    "#         if idx != -1:\n",
    "#             key = pre.strip().replace(\":\", \"\")\n",
    "#             res.append(key)\n",
    "#     return res\n"
   ]
  },
  {
   "cell_type": "code",
   "execution_count": null,
   "metadata": {},
   "outputs": [],
   "source": [
    "# diffs = []\n",
    "# dataset_name = \"all_wandbs\"\n",
    "# for key in all_res:\n",
    "#     if not key.startswith(\"Statics2011\"):\n",
    "#         continue\n",
    "#     d = dict()\n",
    "#     d.setdefault(key, dict())\n",
    "#     keys = []\n",
    "#     paramsf = os.path.join(dataset_name, key+\".yaml\")\n",
    "#     params = get_params(paramsf)\n",
    "#     params = sorted(params)\n",
    "#     df = all_res[key].dropna()\n",
    "#     if \"testauc\" not in df.keys():\n",
    "#         continue\n",
    "# #     print(df)\n",
    "#     sorted_df = df.sort_values(\"testauc\",ascending=False)\n",
    "# #     top1 = sorted_df[0:1]\n",
    "# #     for i, row in top1[params].iterrows():\n",
    "# #         params_str = \"_\".join([str(s) for s in row.values])\n",
    "# #     d[key].setdefault(params_str, [])\n",
    "# #     print(params_str)\n",
    "\n",
    "# #     for i, row in sorted_df.iterrows():\n",
    "# #         try:\n",
    "# #             testauc = row[\"testauc\"]\n",
    "# #             testacc = row[\"testacc\"]\n",
    "# #             best_epoch = row[\"best_epoch\"]\n",
    "# #             testauc = round(testauc, 4)\n",
    "# #             testacc = round(testacc, 4)\n",
    "# #             best_epoch = int(best_epoch)\n",
    "# #             curparams = \"_\".join([str(s) for s in row[params].values])\n",
    "# #     #         print(curparams)\n",
    "# #             if params_str == curparams:\n",
    "# #                 d[key][params_str].append([testauc, row[\"Name\"]])\n",
    "# #         except Exception as e:\n",
    "# #             print(key, row)\n",
    "# #             print(e)\n",
    "# #             import sys\n",
    "# #             sys.exit()\n",
    "# #     min_auc = d[key][params_str][-1][0]\n",
    "# #     max_auc = d[key][params_str][0][0]\n",
    "#     min_auc = sorted_df[\"testauc\"].tolist()[-1]\n",
    "#     max_auc = sorted_df[\"testauc\"].tolist()[0]\n",
    "#     maxdiff = round(max_auc-min_auc,4)\n",
    "#     print(key, min_auc, max_auc, maxdiff, df.shape[0])#, len(d[key][params_str]), df.shape[0])\n",
    "#     diffs.append(maxdiff)\n",
    "# sorted(diffs)"
   ]
  },
  {
   "cell_type": "code",
   "execution_count": null,
   "metadata": {},
   "outputs": [],
   "source": []
  },
  {
   "cell_type": "code",
   "execution_count": null,
   "metadata": {},
   "outputs": [],
   "source": []
  },
  {
   "cell_type": "code",
   "execution_count": null,
   "metadata": {},
   "outputs": [],
   "source": [
    "# dmodel = dict()\n",
    "# for key in all_res:\n",
    "#     tmps = key.split(\"_\")\n",
    "#     model_etype = \"_\".join(tmps[1:])\n",
    "#     dmodel.setdefault(model_etype, dict())\n",
    "#     params = get_params(os.path.join(tmps[0]+\"_wandb\", key+\".yaml\"))\n",
    "#     df = all_res[key].dropna()\n",
    "#     try:\n",
    "#         sorted_df = df.sort_values(\"testauc\",ascending=False)\n",
    "#         top1 = sorted_df[0:1]\n",
    "#         for param in params:\n",
    "#             dmodel[model_etype].setdefault(param, set())\n",
    "#             dmodel[model_etype][param].add(top1[param].tolist()[0])\n",
    "#     except:\n",
    "#         continue\n",
    "# dmodel"
   ]
  },
  {
   "cell_type": "code",
   "execution_count": null,
   "metadata": {},
   "outputs": [],
   "source": []
  },
  {
   "cell_type": "code",
   "execution_count": null,
   "metadata": {},
   "outputs": [],
   "source": []
  },
  {
   "cell_type": "code",
   "execution_count": null,
   "metadata": {},
   "outputs": [],
   "source": [
    "# def get_params(paramsf):\n",
    "#     lines = open(paramsf).read().split(\"\\n\")\n",
    "#     res = []\n",
    "#     for i in range(0, len(lines)):\n",
    "#         cur = lines[i]\n",
    "#         pre = \"\"\n",
    "#         if i > 0:\n",
    "#             pre = lines[i-1]\n",
    "#         if pre == \"\":\n",
    "#             continue\n",
    "#         idx = cur.find(\"values\")\n",
    "#         if idx != -1:\n",
    "#             key = pre.strip().replace(\":\", \"\")\n",
    "#             res.append(key)\n",
    "#     return res\n"
   ]
  },
  {
   "cell_type": "code",
   "execution_count": null,
   "metadata": {},
   "outputs": [],
   "source": [
    "# def download(sweep_dict, dataset_pre):\n",
    "#     d_data = dict()\n",
    "#     for key in sweep_dict:\n",
    "# #         if not key.startswith(dataset_pre):\n",
    "# #             continue\n",
    "#         try:\n",
    "#             df = get_df(key, sweep_dict)\n",
    "#             d_data[key] = df\n",
    "#     return d_data\n",
    "\n",
    "# d_data = download(sweep_dict, \"assist2009_\")"
   ]
  },
  {
   "cell_type": "code",
   "execution_count": null,
   "metadata": {},
   "outputs": [],
   "source": [
    "# diffs = []\n",
    "# dataset_name = \"assist2009_wandb\"\n",
    "# for key in d_data:\n",
    "#     d = dict()\n",
    "#     d.setdefault(key, dict())\n",
    "#     keys = []\n",
    "#     paramsf = os.path.join(dataset_name, key+\".yaml\")\n",
    "#     params = get_params(paramsf)\n",
    "#     params = sorted(params)\n",
    "#     df = d_data[key].dropna()\n",
    "#     sorted_df = df.sort_values(\"testauc\",ascending=False)\n",
    "#     top1 = sorted_df[0:1]\n",
    "#     for i, row in top1[params].iterrows():\n",
    "#         params_str = \"_\".join([str(s) for s in row.values])\n",
    "#     d[key].setdefault(params_str, [])\n",
    "#     print(params_str)\n",
    "\n",
    "#     for i, row in sorted_df.iterrows():\n",
    "#         try:\n",
    "#             testauc = row[\"testauc\"]\n",
    "#             testacc = row[\"testacc\"]\n",
    "#             best_epoch = row[\"best_epoch\"]\n",
    "#             testauc = round(testauc, 4)\n",
    "#             testacc = round(testacc, 4)\n",
    "#             best_epoch = int(best_epoch)\n",
    "#             curparams = \"_\".join([str(s) for s in row[params].values])\n",
    "#     #         print(curparams)\n",
    "#             if params_str == curparams:\n",
    "#                 d[key][params_str].append([testauc, row[\"Name\"]])\n",
    "#         except Exception as e:\n",
    "#             print(key, row)\n",
    "#             print(e)\n",
    "#             import sys\n",
    "#             sys.exit()\n",
    "#     min_auc = d[key][params_str][-1][0]\n",
    "#     max_auc = d[key][params_str][0][0]\n",
    "#     maxdiff = round(max_auc-min_auc,4)\n",
    "#     print(min_auc, max_auc, maxdiff, len(d[key][params_str]), df.shape[0])\n",
    "#     diffs.append(maxdiff)\n",
    "# sorted(diffs)"
   ]
  },
  {
   "cell_type": "code",
   "execution_count": null,
   "metadata": {},
   "outputs": [],
   "source": [
    "# def download(sweep_dict, dataset_pre):\n",
    "#     d_data = dict()\n",
    "#     for key in sweep_dict:\n",
    "#         if not key.startswith(dataset_pre):\n",
    "#             continue\n",
    "#         df = get_df(key, sweep_dict)\n",
    "#         d_data[key] = df\n",
    "#     return d_data\n",
    "# d_data2 = download(sweep_dict, \"Statics2011_\")"
   ]
  },
  {
   "cell_type": "code",
   "execution_count": null,
   "metadata": {},
   "outputs": [],
   "source": [
    "# diffs = []\n",
    "# dataset_name = \"Statics2011_wandb\"\n",
    "# for key in d_data2:\n",
    "#     d = dict()\n",
    "#     d.setdefault(key, dict())\n",
    "#     keys = []\n",
    "#     paramsf = os.path.join(dataset_name, key+\".yaml\")\n",
    "#     params = get_params(paramsf)\n",
    "#     params = sorted(params)\n",
    "#     df = d_data2[key].dropna()\n",
    "#     sorted_df = df.sort_values(\"testauc\",ascending=False)\n",
    "#     top1 = sorted_df[0:1]\n",
    "#     for i, row in top1[params].iterrows():\n",
    "#         params_keys = \"_\".join(params)\n",
    "#         params_str = \"_\".join([str(s) for s in row.values])\n",
    "#     d[key].setdefault(params_str, [])\n",
    "#     print(params_keys)\n",
    "#     print(params_str)\n",
    "\n",
    "#     for i, row in sorted_df.iterrows():\n",
    "#         try:\n",
    "#             testauc = row[\"testauc\"]\n",
    "#             testacc = row[\"testacc\"]\n",
    "#             best_epoch = row[\"best_epoch\"]\n",
    "#             testauc = round(testauc, 4)\n",
    "#             testacc = round(testacc, 4)\n",
    "#             best_epoch = int(best_epoch)\n",
    "#             curparams = \"_\".join([str(s) for s in row[params].values])\n",
    "#     #         print(curparams)\n",
    "#             if params_str == curparams:\n",
    "#                 d[key][params_str].append([testauc, row[\"Name\"]])\n",
    "#         except Exception as e:\n",
    "#             print(key, row)\n",
    "#             print(e)\n",
    "#             import sys\n",
    "#             sys.exit()\n",
    "#     min_auc = d[key][params_str][-1][0]\n",
    "#     max_auc = d[key][params_str][0][0]\n",
    "#     maxdiff = round(max_auc-min_auc,4)\n",
    "#     print(min_auc, max_auc, maxdiff, len(d[key][params_str]), df.shape[0])\n",
    "#     diffs.append(maxdiff)\n",
    "# sorted(diffs)"
   ]
  },
  {
   "cell_type": "code",
   "execution_count": null,
   "metadata": {},
   "outputs": [],
   "source": [
    "# for i, row in top1[params].iterrows():\n",
    "#     print(\"_\".join([str(s) for s in row]))\n",
    "#     print(row)"
   ]
  },
  {
   "cell_type": "code",
   "execution_count": null,
   "metadata": {},
   "outputs": [],
   "source": [
    "a = set([1,2,3])\n",
    "b = set([1,2,3,4])\n",
    "a>=a"
   ]
  },
  {
   "cell_type": "code",
   "execution_count": null,
   "metadata": {},
   "outputs": [],
   "source": [
    "tqdm_notebook?"
   ]
  }
 ],
 "metadata": {
  "kernelspec": {
   "display_name": "4s_dev",
   "language": "python",
   "name": "4s_dev"
  },
  "language_info": {
   "codemirror_mode": {
    "name": "ipython",
    "version": 3
   },
   "file_extension": ".py",
   "mimetype": "text/x-python",
   "name": "python",
   "nbconvert_exporter": "python",
   "pygments_lexer": "ipython3",
   "version": "3.7.5"
  },
  "toc": {
   "base_numbering": 1,
   "nav_menu": {},
   "number_sections": true,
   "sideBar": true,
   "skip_h1_title": false,
   "title_cell": "Table of Contents",
   "title_sidebar": "Contents",
   "toc_cell": false,
   "toc_position": {
    "height": "calc(100% - 180px)",
    "left": "10px",
    "top": "150px",
    "width": "165px"
   },
   "toc_section_display": true,
   "toc_window_display": true
  }
 },
 "nbformat": 4,
 "nbformat_minor": 5
}
